{
 "cells": [
  {
   "cell_type": "code",
   "execution_count": null,
   "metadata": {},
   "outputs": [],
   "source": [
    "from dotenv import load_dotenv\n",
    "\n",
    "load_dotenv(\"../.env\")"
   ]
  },
  {
   "cell_type": "code",
   "execution_count": 2,
   "metadata": {},
   "outputs": [],
   "source": [
    "from langchain_community.document_loaders.llmsherpa import LLMSherpaFileLoader"
   ]
  },
  {
   "cell_type": "code",
   "execution_count": 3,
   "metadata": {},
   "outputs": [],
   "source": [
    "FILE_PATH = \"../documents/pdf-contoh-hasil-slik-ojk_compress.pdf\""
   ]
  },
  {
   "cell_type": "code",
   "execution_count": 4,
   "metadata": {},
   "outputs": [],
   "source": [
    "loader = LLMSherpaFileLoader(\n",
    "    file_path=FILE_PATH,\n",
    "    new_indent_parser=True,\n",
    "    apply_ocr=True,\n",
    "    strategy=\"text\",\n",
    "    llmsherpa_api_url=\"http://localhost:5010/api/parseDocument?renderFormat=all\",\n",
    ")"
   ]
  },
  {
   "cell_type": "code",
   "execution_count": 5,
   "metadata": {},
   "outputs": [],
   "source": [
    "docs = loader.load()"
   ]
  },
  {
   "cell_type": "code",
   "execution_count": null,
   "metadata": {},
   "outputs": [],
   "source": [
    "print(docs[0].page_content)"
   ]
  },
  {
   "cell_type": "code",
   "execution_count": null,
   "metadata": {},
   "outputs": [],
   "source": [
    "len(docs[0].page_content)"
   ]
  },
  {
   "cell_type": "markdown",
   "metadata": {},
   "source": [
    "[Extraction Long Text](https://python.langchain.com/docs/how_to/extraction_long_text/)"
   ]
  },
  {
   "cell_type": "code",
   "execution_count": 14,
   "metadata": {},
   "outputs": [],
   "source": [
    "from typing import List, Optional\n",
    "from pydantic import BaseModel, Field\n",
    "from datetime import date\n",
    "\n",
    "class PaymentHistory(BaseModel):\n",
    "    \"\"\"Monthly payment history information.\"\"\"\n",
    "    month: Optional[str] = Field(default=None, description=\"Month of payment record\")\n",
    "    quality: Optional[str] = Field(default=None, description=\"Credit quality for that month (1-5)\")\n",
    "    days_past_due: Optional[int] = Field(default=None, description=\"Number of days past due\")\n",
    "\n",
    "class CreditFacility(BaseModel):\n",
    "    \"\"\"Information about a credit/financing facility.\"\"\"\n",
    "    reporter: Optional[str] = Field(default=None, description=\"Name of the reporting bank\")\n",
    "    branch: Optional[str] = Field(default=None, description=\"Branch name\")\n",
    "    agreement_number: Optional[str] = Field(default=None, description=\"Credit agreement number\")\n",
    "    facility_type: Optional[str] = Field(default=None, description=\"Type of credit facility\")\n",
    "    plafond: Optional[float] = Field(default=None, description=\"Credit limit in IDR\")\n",
    "    outstanding: Optional[float] = Field(default=None, description=\"Current outstanding balance in IDR\")\n",
    "    start_date: Optional[date] = Field(default=None, description=\"Start date of credit\")\n",
    "    due_date: Optional[date] = Field(default=None, description=\"Due date of credit\")\n",
    "    interest_rate: Optional[float] = Field(default=None, description=\"Interest rate percentage\")\n",
    "    interest_type: Optional[str] = Field(default=None, description=\"Type of interest rate\")\n",
    "    usage_type: Optional[str] = Field(default=None, description=\"Usage type (e.g., Konsumsi)\")\n",
    "    quality: Optional[str] = Field(default=None, description=\"Current credit quality\")\n",
    "    days_past_due: Optional[int] = Field(default=None, description=\"Current days past due\")\n",
    "    payment_history: List[PaymentHistory] = Field(default_factory=list, description=\"12-month payment history\")\n",
    "\n",
    "class SLIKReport(BaseModel):\n",
    "    \"\"\"SLIK report information.\"\"\"\n",
    "    # Report Metadata\n",
    "    report_number: Optional[str] = Field(default=None, description=\"SLIK report number (e.g., 41897/IDEB/0101564/2019)\")\n",
    "    report_date: Optional[date] = Field(default=None, description=\"Date of the SLIK report\")\n",
    "    reference_number: Optional[str] = Field(default=None, description=\"Reference number (Kode Ref. Pengguna)\")\n",
    "    operator: Optional[str] = Field(default=None, description=\"Operator name\")\n",
    "    \n",
    "    # Debtor Information\n",
    "    debtor_name: Optional[str] = Field(default=None, description=\"Name of the debtor\")\n",
    "    debtor_id: Optional[str] = Field(default=None, description=\"ID number/NIK of the debtor\")\n",
    "    gender: Optional[str] = Field(default=None, description=\"Gender of debtor\")\n",
    "    birth_place: Optional[str] = Field(default=None, description=\"Place of birth\")\n",
    "    birth_date: Optional[date] = Field(default=None, description=\"Date of birth\")\n",
    "    address: Optional[str] = Field(default=None, description=\"Complete address\")\n",
    "    occupation: Optional[str] = Field(default=None, description=\"Occupation\")\n",
    "    workplace: Optional[str] = Field(default=None, description=\"Workplace name\")\n",
    "    \n",
    "    # Credit Summary\n",
    "    total_plafond: Optional[float] = Field(default=None, description=\"Total effective plafond across all facilities\")\n",
    "    total_outstanding: Optional[float] = Field(default=None, description=\"Total outstanding balance\")\n",
    "    worst_quality: Optional[str] = Field(default=None, description=\"Worst credit quality\")\n",
    "    \n",
    "    # Facilities\n",
    "    facilities: List[CreditFacility] = Field(default_factory=list, description=\"List of credit facilities\")"
   ]
  },
  {
   "cell_type": "code",
   "execution_count": 9,
   "metadata": {},
   "outputs": [],
   "source": [
    "from langchain_openai import ChatOpenAI\n",
    "\n",
    "llm = ChatOpenAI(\n",
    "    model=\"gpt-4o-mini\",\n",
    "    temperature=0.1,\n",
    ")"
   ]
  },
  {
   "cell_type": "code",
   "execution_count": 10,
   "metadata": {},
   "outputs": [],
   "source": [
    "messages = [\n",
    "    (\n",
    "        \"system\",\n",
    "        \"You are an experienced Data Analyst with extensive knowledge in SQL and database querying. Convert natural language questions into SQL queries.\"\n",
    "    ),\n",
    "    (\"human\", \"Show me total sales by product category for last month.\")\n",
    "]"
   ]
  },
  {
   "cell_type": "code",
   "execution_count": 11,
   "metadata": {},
   "outputs": [],
   "source": [
    "result = llm.invoke(messages)"
   ]
  },
  {
   "cell_type": "code",
   "execution_count": null,
   "metadata": {},
   "outputs": [],
   "source": [
    "result"
   ]
  },
  {
   "cell_type": "code",
   "execution_count": 16,
   "metadata": {},
   "outputs": [],
   "source": [
    "from langchain_core.prompts import ChatPromptTemplate\n",
    "\n",
    "prompt = ChatPromptTemplate.from_messages([\n",
    "    (\n",
    "        \"system\",\n",
    "        \"\"\"You are an expert financial data extraction algorithm specialized in Indonesian SLIK reports.\n",
    "        Extract all relevant information from the SLIK report text into structured data.\n",
    "        Follow these guidelines:\n",
    "        - Convert all monetary values to numbers (remove 'Rp' and ',' separators)\n",
    "        - Convert percentage values to decimal numbers\n",
    "        - Format dates as YYYY-MM-DD\n",
    "        - If a value is not present in the text, return null\n",
    "        - Maintain relationships between facilities, collateral, and guarantors\n",
    "        Be precise and accurate in extracting financial data.\"\"\"\n",
    "    ),\n",
    "    (\"human\", \"{text}\")\n",
    "])\n",
    "\n",
    "# Using the extractor\n",
    "structured_llm = llm.with_structured_output(schema=SLIKReport)\n",
    "slik_text = docs[0].page_content  # Your PDF text from earlier\n",
    "\n",
    "extractor = prompt | structured_llm"
   ]
  },
  {
   "cell_type": "code",
   "execution_count": 17,
   "metadata": {},
   "outputs": [],
   "source": [
    "response = extractor.invoke({\"text\": slik_text})"
   ]
  },
  {
   "cell_type": "code",
   "execution_count": null,
   "metadata": {},
   "outputs": [],
   "source": [
    "response"
   ]
  },
  {
   "cell_type": "code",
   "execution_count": null,
   "metadata": {},
   "outputs": [],
   "source": []
  }
 ],
 "metadata": {
  "kernelspec": {
   "display_name": "ideb-slik-parser-r_poZkBH",
   "language": "python",
   "name": "python3"
  },
  "language_info": {
   "codemirror_mode": {
    "name": "ipython",
    "version": 3
   },
   "file_extension": ".py",
   "mimetype": "text/x-python",
   "name": "python",
   "nbconvert_exporter": "python",
   "pygments_lexer": "ipython3",
   "version": "3.11.11"
  }
 },
 "nbformat": 4,
 "nbformat_minor": 2
}
